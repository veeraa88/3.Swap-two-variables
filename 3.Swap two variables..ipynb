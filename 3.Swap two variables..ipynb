{
 "cells": [
  {
   "cell_type": "markdown",
   "id": "e7cd4eac-2dc9-41c3-b7fe-c93964b3c19d",
   "metadata": {},
   "source": [
    "## 3.Write a Python program to swap two variables."
   ]
  },
  {
   "cell_type": "code",
   "execution_count": 9,
   "id": "1d3a6a13-4b9e-4ce8-9593-c9acaf5a90a5",
   "metadata": {},
   "outputs": [
    {
     "name": "stdin",
     "output_type": "stream",
     "text": [
      "Enter the first string: 12\n",
      "Enter the second string: 13\n"
     ]
    },
    {
     "name": "stdout",
     "output_type": "stream",
     "text": [
      "original value: 12 and 13\n",
      "13\n"
     ]
    }
   ],
   "source": [
    "a=input(\"Enter the first string:\")\n",
    "b=input(\"Enter the second string:\")\n",
    "print(f\"original value: {a} and {b}\")\n",
    "temp=a\n",
    "a=b\n",
    "b=temp\n",
    "print(a)\n",
    "#print(f\"swapped value: a = {a} , b = {b}\")"
   ]
  },
  {
   "cell_type": "code",
   "execution_count": null,
   "id": "1a92392c-6f34-4053-863b-b60044b38829",
   "metadata": {},
   "outputs": [],
   "source": []
  },
  {
   "cell_type": "code",
   "execution_count": null,
   "id": "f5810d1d-a98a-487d-9663-110a30e0270b",
   "metadata": {},
   "outputs": [],
   "source": []
  }
 ],
 "metadata": {
  "kernelspec": {
   "display_name": "Python [conda env:base] *",
   "language": "python",
   "name": "conda-base-py"
  },
  "language_info": {
   "codemirror_mode": {
    "name": "ipython",
    "version": 3
   },
   "file_extension": ".py",
   "mimetype": "text/x-python",
   "name": "python",
   "nbconvert_exporter": "python",
   "pygments_lexer": "ipython3",
   "version": "3.12.7"
  }
 },
 "nbformat": 4,
 "nbformat_minor": 5
}
